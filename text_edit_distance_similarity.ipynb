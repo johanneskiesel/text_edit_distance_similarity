{
 "cells": [
  {
   "cell_type": "markdown",
   "metadata": {},
   "source": [
    "# Edit distance \n",
    "\n",
    "To determine how similar or dissimilar two text  samples are. It quantifies the distance as a numeric value computed through the number of minimum possible operations required to reach from source text (or simply text1) to target text (or simply text 2). This operation can be performed at both word and character level. Following are the three different implementations of edit distance where the difference is the type of operations allowed and their costs."
   ]
  },
  {
   "cell_type": "markdown",
   "metadata": {},
   "source": [
    "The method does not use any packages other than basic `random` and `string` packages to implement. The environment random seed is preserved for reproducibility"
   ]
  },
  {
   "cell_type": "code",
   "execution_count": 8,
   "metadata": {},
   "outputs": [],
   "source": [
    "import random\n",
    "import string\n",
    "from utils import (simple_edit_distance,\n",
    "            levenshtein_edit_distance, damerau_levenshtein_distance, randomize_text)\n",
    "random.seed(13)"
   ]
  },
  {
   "cell_type": "markdown",
   "metadata": {},
   "source": [
    "Here we can take any two text samples on which the methods can be called. For example, we consider toxic social media post and its detoxified version."
   ]
  },
  {
   "cell_type": "code",
   "execution_count": 9,
   "metadata": {},
   "outputs": [],
   "source": [
    "# Sample text (as random tweets)\n",
    "\n",
    "post1 = \"My page should be protected first so that worthless scum like you can't keep vandalizing it.\"\n",
    "post2 = \"My page should be protected first so that unpleasant people like you can't keep vandalizing it.\"\n"
   ]
  },
  {
   "cell_type": "markdown",
   "metadata": {},
   "source": [
    "## 1. Simple Edit Distance\n",
    "It allows insertion, deleletion and substitution operations, all having cost 1. The method implementation operates at both word and character levels."
   ]
  },
  {
   "cell_type": "code",
   "execution_count": 10,
   "metadata": {},
   "outputs": [
    {
     "name": "stdout",
     "output_type": "stream",
     "text": [
      "Simple edit distance (at word level):  2\n",
      "Simple edit distance (at char level):  15\n"
     ]
    }
   ],
   "source": [
    "# 1. Simple edit distance at character / word level (default is character)\n",
    "sed_c = simple_edit_distance(post1, post2, level='c')\n",
    "sed_w = simple_edit_distance(post1, post2, level='w')\n",
    "print(\"Simple edit distance (at word level): \", sed_w)\n",
    "print(\"Simple edit distance (at char level): \", sed_c)"
   ]
  },
  {
   "cell_type": "markdown",
   "metadata": {},
   "source": [
    "## 2. Levenshtein Edit Distance\n",
    "It has insertion and deletion with cost 1, while substitution has cost 2. It is also equivalent to saying that substitution is not allowed as both would incur the same over all cost. The method implementation operates at both word and character levels."
   ]
  },
  {
   "cell_type": "code",
   "execution_count": 11,
   "metadata": {},
   "outputs": [
    {
     "name": "stdout",
     "output_type": "stream",
     "text": [
      "Levenshtein edit distance (at word level):  4\n",
      "Levenshtein edit distance (at char level):  23\n"
     ]
    }
   ],
   "source": [
    "# 2. Simple levenshtein edit distance at character / word level (default is character)\n",
    "led_c = levenshtein_edit_distance(post1, post2, level = 'c')\n",
    "led_w = levenshtein_edit_distance(post1, post2, level = 'w')\n",
    "print(\"Levenshtein edit distance (at word level): \", led_w)\n",
    "print(\"Levenshtein edit distance (at char level): \", led_c)"
   ]
  },
  {
   "cell_type": "markdown",
   "metadata": {},
   "source": [
    "## 3. Damerau Levenshtein Edit Distance\n",
    "In addition to simple edit distance, it allows the transposition operation as well. All 4 operations i.e., insertion, deletion, substitution and transposition have cost 1. The method implementation operates at both word and character levels."
   ]
  },
  {
   "cell_type": "code",
   "execution_count": 12,
   "metadata": {},
   "outputs": [
    {
     "name": "stdout",
     "output_type": "stream",
     "text": [
      "Damerau levenshtein edit distance (at word level):  2\n",
      "Damerau levenshtein edit distance (at char level):  15\n"
     ]
    }
   ],
   "source": [
    "# 3. Simple damerau levenstein edit distance at character / word level (default is character)\n",
    "dled_c = damerau_levenshtein_distance(post1, post2, level = 'c')\n",
    "dled_w = damerau_levenshtein_distance(post1, post2, level = 'w')\n",
    "print(\"Damerau levenshtein edit distance (at word level): \", dled_w)\n",
    "print(\"Damerau levenshtein edit distance (at char level): \", dled_c)\n"
   ]
  },
  {
   "cell_type": "markdown",
   "metadata": {},
   "source": [
    "## 4. (Bonus) Text Distortion\n",
    "It use randomly selected operations (insertion, deletion, substitution and transposition) for given number of revolutions/spins to randomize/distort the text. The method would particularly be helpful in losing personalized information e.g., social media posts with people names and affiliations.\n",
    "\n",
    "The following examples shows the original text with 10, 50 and 100 spins of distortion."
   ]
  },
  {
   "cell_type": "code",
   "execution_count": 7,
   "metadata": {},
   "outputs": [
    {
     "name": "stdout",
     "output_type": "stream",
     "text": [
      "Original post:  My page should be protected first so that worthless scum like you can't keep vandalizing it.\n",
      "Randomize text (10 revs):  ynage sould Pbe protected first so thHtworthless scumlike you cant keep vandalziing it.\n",
      "Randomize text (50 revs): My paTgs hJdlgepaodrctgd firgtjC s thwato rNvhlesss czml ikCe youcH Wan't keeT ndaliing t.\n",
      "Randomize text (100 revs):  ytyMZg TtsAuuoWdb ckroteVdfPsrt  othkCw ohtlesss crmkHabuG NFcants'UkepandINialviIig yt.\n"
     ]
    }
   ],
   "source": [
    "# 4. Randomize text\n",
    "randomized_10 = randomize_text(post1, 10) # default revs = 1\n",
    "randomized_50 = randomize_text(post1, 50) # default revs = 1\n",
    "randomized_100 = randomize_text(post1, 100) # default revs = 1\n",
    "print(\"Original post: \", post1)\n",
    "print(\"Randomize text (10 revs): \", randomized_10) \n",
    "print(\"Randomize text (50 revs):\", randomized_50) \n",
    "print(\"Randomize text (100 revs): \", randomized_100) "
   ]
  },
  {
   "cell_type": "code",
   "execution_count": null,
   "metadata": {},
   "outputs": [],
   "source": []
  }
 ],
 "metadata": {
  "kernelspec": {
   "display_name": "Python 3 (ipykernel)",
   "language": "python",
   "name": "python3"
  },
  "language_info": {
   "codemirror_mode": {
    "name": "ipython",
    "version": 3
   },
   "file_extension": ".py",
   "mimetype": "text/x-python",
   "name": "python",
   "nbconvert_exporter": "python",
   "pygments_lexer": "ipython3",
   "version": "3.12.7"
  }
 },
 "nbformat": 4,
 "nbformat_minor": 4
}
