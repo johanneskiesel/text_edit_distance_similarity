{
 "cells": [
  {
   "cell_type": "code",
   "execution_count": 1,
   "metadata": {},
   "outputs": [],
   "source": [
    "import random\n",
    "import string\n",
    "from utils import (simple_edit_distance,\n",
    "            levenstein_edit_distance, damerau_levenshtein_distance, randomize_text)"
   ]
  },
  {
   "cell_type": "code",
   "execution_count": 2,
   "metadata": {},
   "outputs": [],
   "source": [
    "random.seed(13)"
   ]
  },
  {
   "cell_type": "code",
   "execution_count": 3,
   "metadata": {},
   "outputs": [],
   "source": [
    "# Sample text (as random tweets)\n",
    "tweet1 = \"Excited to share our latest research on AI and its impact on social sciences! Leveraging data for better insights\"\n",
    "tweet2 = \"Thrilled about our new findings on how AI transforms social science research. Innovation meets impact!\"\n"
   ]
  },
  {
   "cell_type": "code",
   "execution_count": 4,
   "metadata": {},
   "outputs": [
    {
     "name": "stdout",
     "output_type": "stream",
     "text": [
      "71\n",
      "16\n"
     ]
    }
   ],
   "source": [
    "# 1. Simple edit distance at character / word level (default is character)\n",
    "print(simple_edit_distance(tweet1, tweet2, level='c'))\n",
    "print(simple_edit_distance(tweet1, tweet2, level='w'))"
   ]
  },
  {
   "cell_type": "code",
   "execution_count": 5,
   "metadata": {},
   "outputs": [
    {
     "name": "stdout",
     "output_type": "stream",
     "text": [
      "109\n",
      "26\n"
     ]
    }
   ],
   "source": [
    "# 2. Simple levenstein edit distance at character / word level (default is character)\n",
    "print(levenstein_edit_distance(tweet1, tweet2, level = 'c'))\n",
    "print(levenstein_edit_distance(tweet1, tweet2, level = 'w'))"
   ]
  },
  {
   "cell_type": "code",
   "execution_count": 6,
   "metadata": {},
   "outputs": [
    {
     "name": "stdout",
     "output_type": "stream",
     "text": [
      "71\n",
      "16\n"
     ]
    }
   ],
   "source": [
    "# 3. Simple damerau levenstein edit distance at character / word level (default is character)\n",
    "print(damerau_levenshtein_distance(tweet1, tweet2, level = 'c'))\n",
    "print(damerau_levenshtein_distance(tweet1, tweet2, level = 'w'))\n"
   ]
  },
  {
   "cell_type": "code",
   "execution_count": 7,
   "metadata": {},
   "outputs": [
    {
     "data": {
      "text/plain": [
       "'Excited to share our latest research Rn AI and its impact on social sciences! Leveraging data for better insights'"
      ]
     },
     "execution_count": 7,
     "metadata": {},
     "output_type": "execute_result"
    }
   ],
   "source": [
    "# 4. Randomize text\n",
    "randomize_text(tweet1, revs = 5, level = 'w') # default revs = 1\n",
    "randomize_text(tweet1, revs = 10, level = 'c') # default revs = 1"
   ]
  },
  {
   "cell_type": "code",
   "execution_count": null,
   "metadata": {},
   "outputs": [],
   "source": []
  }
 ],
 "metadata": {
  "kernelspec": {
   "display_name": "Python 3 (ipykernel)",
   "language": "python",
   "name": "python3"
  },
  "language_info": {
   "codemirror_mode": {
    "name": "ipython",
    "version": 3
   },
   "file_extension": ".py",
   "mimetype": "text/x-python",
   "name": "python",
   "nbconvert_exporter": "python",
   "pygments_lexer": "ipython3",
   "version": "3.12.7"
  }
 },
 "nbformat": 4,
 "nbformat_minor": 4
}
