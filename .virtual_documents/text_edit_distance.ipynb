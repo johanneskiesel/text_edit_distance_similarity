import random
import string
from utils import (simple_edit_distance,
            levenstein_edit_distance, damerau_levenshtein_distance, randomize_text)


random.seed(13)


# Sample text (as random tweets)
tweet1 = "Excited to share our latest research on AI and its impact on social sciences! Leveraging data for better insights"
tweet2 = "Thrilled about our new findings on how AI transforms social science research. Innovation meets impact!"



# 1. Simple edit distance at character / word level (default is character)
print(simple_edit_distance(tweet1, tweet2, level='c'))
print(simple_edit_distance(tweet1, tweet2, level='w'))


# 2. Simple levenstein edit distance at character / word level (default is character)
print(levenstein_edit_distance(tweet1, tweet2, level = 'c'))
print(levenstein_edit_distance(tweet1, tweet2, level = 'w'))


# 3. Simple damerau levenstein edit distance at character / word level (default is character)
print(damerau_levenshtein_distance(tweet1, tweet2, level = 'c'))
print(damerau_levenshtein_distance(tweet1, tweet2, level = 'w'))



# 4. Randomize text
randomize_text(tweet1, level = 'w', revs = 5) # default revs = 1
randomize_text(tweet1, level = 'c', revs = 20) # default revs = 1



