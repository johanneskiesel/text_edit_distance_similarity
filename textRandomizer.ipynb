{
 "cells": [
  {
   "cell_type": "code",
   "execution_count": 39,
   "metadata": {},
   "outputs": [],
   "source": [
    "import random\n",
    "import string"
   ]
  },
  {
   "cell_type": "code",
   "execution_count": 91,
   "metadata": {},
   "outputs": [],
   "source": [
    "def randomizeWord(word, revs = 1):\n",
    "    for rev in range(revs):\n",
    "        newStr = ''\n",
    "        allchar = list(string.ascii_lowercase)+list(string.ascii_uppercase)\n",
    "        op = random.randint(1, 4)\n",
    "        print(op)\n",
    "        if op == 1: #insertion\n",
    "            loc = random.randint(0,len(word)-1)\n",
    "            nch = random.choice(allchar)\n",
    "            newStr = str(word[0:loc]) + nch + str(word[loc: len(word)])\n",
    "#           print('insertion', word, newStr)\n",
    "\n",
    "        if op == 2: #deletion\n",
    "            loc = random.randint(0, len(word)-1)\n",
    "            newStr = str(word[0:loc]) + str(word[loc+1:len(word)])\n",
    "#           print('deletion', word, newStr)\n",
    "        \n",
    "        if op == 3: #substitution\n",
    "            loc = random.randint(0, len(word)-1)\n",
    "            nch = random.choice(allchar)\n",
    "            newStr = str(word[0:loc]) + nch + str(word[loc+1:len(word)])\n",
    "#           print('substitution', word, newStr)\n",
    "        \n",
    "        if op == 4: #transposition\n",
    "            loc = random.randint(0, len(word)-1-1)\n",
    "            ch = word[loc]\n",
    "            print(ch, loc)\n",
    "            word = str(word[0:loc]+word[loc+1]+word[loc]+word[loc+2:])\n",
    "            newStr = word\n",
    "#           print('transposition', word, newStr)\n",
    "        \n",
    "        return newStr"
   ]
  },
  {
   "cell_type": "code",
   "execution_count": 92,
   "metadata": {},
   "outputs": [
    {
     "name": "stdout",
     "output_type": "stream",
     "text": [
      "3\n",
      "aEntschuldigung\n"
     ]
    }
   ],
   "source": [
    "randword = randomizeWord(\" Entschuldigung\", 3)\n",
    "print(randword)"
   ]
  },
  {
   "cell_type": "code",
   "execution_count": null,
   "metadata": {},
   "outputs": [],
   "source": []
  },
  {
   "cell_type": "code",
   "execution_count": null,
   "metadata": {},
   "outputs": [],
   "source": []
  }
 ],
 "metadata": {
  "kernelspec": {
   "display_name": "Python 3 (ipykernel)",
   "language": "python",
   "name": "python3"
  },
  "language_info": {
   "codemirror_mode": {
    "name": "ipython",
    "version": 3
   },
   "file_extension": ".py",
   "mimetype": "text/x-python",
   "name": "python",
   "nbconvert_exporter": "python",
   "pygments_lexer": "ipython3",
   "version": "3.12.2"
  }
 },
 "nbformat": 4,
 "nbformat_minor": 4
}
